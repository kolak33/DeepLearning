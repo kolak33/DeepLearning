{
 "cells": [
  {
   "cell_type": "code",
   "execution_count": 2,
   "metadata": {},
   "outputs": [
    {
     "name": "stderr",
     "output_type": "stream",
     "text": [
      "Using TensorFlow backend.\n"
     ]
    }
   ],
   "source": [
    "from keras.datasets import imdb\n",
    "(train_data, train_labels), (test_data, test_labels) = imdb.load_data(\n",
    "num_words=10000)"
   ]
  },
  {
   "cell_type": "code",
   "execution_count": 3,
   "metadata": {},
   "outputs": [],
   "source": [
    "word_index = imdb.get_word_index()\n",
    "reverse_word_index = dict(\n",
    "[(value, key) for (key, value) in word_index.items()])\n",
    "decoded_review = ' '.join(\n",
    "[reverse_word_index.get(i - 3, '?') for i in train_data[10]])"
   ]
  },
  {
   "cell_type": "code",
   "execution_count": 4,
   "metadata": {},
   "outputs": [],
   "source": [
    "import numpy as np\n",
    "def vectorize_sequences(sequences, dimension=10000):\n",
    "    results = np.zeros((len(sequences), dimension))\n",
    "    for i, sequence in enumerate(sequences):\n",
    "        results[i, sequence] = 1.\n",
    "    return results\n",
    "\n",
    "x_train = vectorize_sequences(train_data)\n",
    "x_test = vectorize_sequences(test_data)"
   ]
  },
  {
   "cell_type": "code",
   "execution_count": 5,
   "metadata": {},
   "outputs": [],
   "source": [
    "y_train = np.asarray(train_labels).astype('float32')\n",
    "y_test = np.asarray(test_labels).astype('float32')"
   ]
  },
  {
   "cell_type": "code",
   "execution_count": 54,
   "metadata": {},
   "outputs": [],
   "source": [
    "from keras import models\n",
    "from keras import layers\n",
    "from keras import regularizers\n",
    "\n",
    "def build_model():\n",
    "    model = models.Sequential()\n",
    "    #model.add(layers.Dense(16, kernel_regularizer=regularizers.l1(0.001),\n",
    "    #                   activation='relu', input_shape=(10000,)))\n",
    "    #model.add(layers.Dense(16, kernel_regularizer=regularizers.l1(0.001),\n",
    "    #                   activation='relu'))\n",
    "    model.add(layers.Dense(16, activation='relu', input_shape=(10000,)))\n",
    "    model.add(layers.Dropout(0.1))\n",
    "    model.add(layers.Dense(16, activation='relu'))\n",
    "    model.add(layers.Dropout(0.1))\n",
    "                           \n",
    "    model.add(layers.Dense(1, activation='sigmoid'))\n",
    "    model.compile(optimizer='rmsprop',\n",
    "    loss='binary_crossentropy',\n",
    "    metrics=['accuracy'])\n",
    "    return model"
   ]
  },
  {
   "cell_type": "code",
   "execution_count": null,
   "metadata": {},
   "outputs": [],
   "source": []
  },
  {
   "cell_type": "code",
   "execution_count": 55,
   "metadata": {},
   "outputs": [],
   "source": [
    "x_val = x_train[:10000]\n",
    "partial_x_train = x_train[10000:]\n",
    "\n",
    "y_val = y_train[:10000]\n",
    "partial_y_train = y_train[10000:]"
   ]
  },
  {
   "cell_type": "code",
   "execution_count": 56,
   "metadata": {
    "scrolled": false
   },
   "outputs": [
    {
     "name": "stdout",
     "output_type": "stream",
     "text": [
      "Train on 15000 samples, validate on 10000 samples\n",
      "Epoch 1/15\n",
      "15000/15000 [==============================] - 4s 253us/step - loss: 0.5316 - acc: 0.7727 - val_loss: 0.3993 - val_acc: 0.8623\n",
      "Epoch 2/15\n",
      "15000/15000 [==============================] - 3s 184us/step - loss: 0.3367 - acc: 0.8867 - val_loss: 0.3298 - val_acc: 0.8708\n",
      "Epoch 3/15\n",
      "15000/15000 [==============================] - 3s 179us/step - loss: 0.2531 - acc: 0.9119 - val_loss: 0.2822 - val_acc: 0.8905\n",
      "Epoch 4/15\n",
      "15000/15000 [==============================] - 3s 178us/step - loss: 0.2010 - acc: 0.9325 - val_loss: 0.2742 - val_acc: 0.8899\n",
      "Epoch 5/15\n",
      "15000/15000 [==============================] - 3s 179us/step - loss: 0.1640 - acc: 0.9445 - val_loss: 0.2865 - val_acc: 0.8869\n",
      "Epoch 6/15\n",
      "15000/15000 [==============================] - 3s 179us/step - loss: 0.1354 - acc: 0.9545 - val_loss: 0.2939 - val_acc: 0.8839\n",
      "Epoch 7/15\n",
      "15000/15000 [==============================] - 3s 179us/step - loss: 0.1146 - acc: 0.9639 - val_loss: 0.3068 - val_acc: 0.8846\n",
      "Epoch 8/15\n",
      "15000/15000 [==============================] - 3s 181us/step - loss: 0.0916 - acc: 0.9724 - val_loss: 0.4127 - val_acc: 0.8594\n",
      "Epoch 9/15\n",
      "15000/15000 [==============================] - 3s 206us/step - loss: 0.0766 - acc: 0.9764 - val_loss: 0.3465 - val_acc: 0.8832\n",
      "Epoch 10/15\n",
      "15000/15000 [==============================] - 3s 190us/step - loss: 0.0611 - acc: 0.9819 - val_loss: 0.3735 - val_acc: 0.8814\n",
      "Epoch 11/15\n",
      "15000/15000 [==============================] - 3s 179us/step - loss: 0.0476 - acc: 0.9867 - val_loss: 0.4056 - val_acc: 0.8784\n",
      "Epoch 12/15\n",
      "15000/15000 [==============================] - 3s 175us/step - loss: 0.0384 - acc: 0.9897 - val_loss: 0.4532 - val_acc: 0.8781\n",
      "Epoch 13/15\n",
      "15000/15000 [==============================] - 3s 176us/step - loss: 0.0339 - acc: 0.9907 - val_loss: 0.4680 - val_acc: 0.8753\n",
      "Epoch 14/15\n",
      "15000/15000 [==============================] - 3s 179us/step - loss: 0.0225 - acc: 0.9955 - val_loss: 0.5216 - val_acc: 0.8744\n",
      "Epoch 15/15\n",
      "15000/15000 [==============================] - 3s 177us/step - loss: 0.0202 - acc: 0.9946 - val_loss: 0.5421 - val_acc: 0.8740\n"
     ]
    }
   ],
   "source": [
    "model = build_model()\n",
    "history = model.fit(partial_x_train,\n",
    "partial_y_train,\n",
    "epochs=15,\n",
    "batch_size=512,\n",
    "validation_data=(x_val, y_val))"
   ]
  },
  {
   "cell_type": "code",
   "execution_count": 57,
   "metadata": {},
   "outputs": [
    {
     "data": {
      "text/plain": [
       "dict_keys(['val_loss', 'val_acc', 'loss', 'acc'])"
      ]
     },
     "execution_count": 57,
     "metadata": {},
     "output_type": "execute_result"
    }
   ],
   "source": [
    "history_dict = history.history\n",
    "history_dict.keys()"
   ]
  },
  {
   "cell_type": "code",
   "execution_count": 58,
   "metadata": {},
   "outputs": [
    {
     "data": {
      "image/png": "[encoded data removed]",
      "text/plain": [
       "<Figure size 432x288 with 1 Axes>"
      ]
     },
     "metadata": {
      "needs_background": "light"
     },
     "output_type": "display_data"
    }
   ],
   "source": [
    "import matplotlib.pyplot as plt\n",
    "history_dict = history.history\n",
    "loss_values = history_dict['loss']\n",
    "val_loss_values = history_dict['val_loss']\n",
    "epochs = range(1, len(history_dict['acc']) + 1)\n",
    "plt.plot(epochs, loss_values, 'bo', label='Training loss')\n",
    "plt.plot(epochs, val_loss_values, 'b', label='Validation loss')\n",
    "plt.title('Training and validation loss')\n",
    "plt.xlabel('Epochs')\n",
    "plt.ylabel('Loss')\n",
    "plt.legend()\n",
    "plt.show()"
   ]
  },
  {
   "cell_type": "code",
   "execution_count": 59,
   "metadata": {},
   "outputs": [
    {
     "data": {
      "image/png": "[encoded data removed]",
      "text/plain": [
       "<Figure size 432x288 with 1 Axes>"
      ]
     },
     "metadata": {
      "needs_background": "light"
     },
     "output_type": "display_data"
    }
   ],
   "source": [
    "#plt.clf()\n",
    "acc_values = history_dict['acc']\n",
    "val_acc_values = history_dict['val_acc']\n",
    "plt.plot(epochs, acc_values, 'bo', label='Training acc')\n",
    "plt.plot(epochs, val_acc_values, 'b', label='Validation acc')\n",
    "plt.title('Training and validation accuracy')\n",
    "plt.xlabel('Epochs')\n",
    "plt.ylabel('Loss')\n",
    "plt.legend()\n",
    "plt.show()"
   ]
  },
  {
   "cell_type": "code",
   "execution_count": 60,
   "metadata": {},
   "outputs": [
    {
     "name": "stdout",
     "output_type": "stream",
     "text": [
      "Epoch 1/4\n",
      "25000/25000 [==============================] - 4s 157us/step - loss: 0.5202 - acc: 0.7711\n",
      "Epoch 2/4\n",
      "25000/25000 [==============================] - 3s 121us/step - loss: 0.3258 - acc: 0.8824\n",
      "Epoch 3/4\n",
      "25000/25000 [==============================] - 3s 120us/step - loss: 0.2457 - acc: 0.9128\n",
      "Epoch 4/4\n",
      "25000/25000 [==============================] - 3s 120us/step - loss: 0.2035 - acc: 0.9282\n",
      "25000/25000 [==============================] - 4s 140us/step\n",
      "[0.289537876663208, 0.88436]\n"
     ]
    }
   ],
   "source": [
    "model = build_model()\n",
    "model.fit(x_train, y_train, epochs=4, batch_size=512)\n",
    "results = model.evaluate(x_test, y_test)\n",
    "print(results)"
   ]
  },
  {
   "cell_type": "code",
   "execution_count": 61,
   "metadata": {},
   "outputs": [
    {
     "data": {
      "text/plain": [
       "array([[0.15904038],\n",
       "       [0.9999082 ],\n",
       "       [0.8950683 ],\n",
       "       ...,\n",
       "       [0.10441165],\n",
       "       [0.1021955 ],\n",
       "       [0.5526571 ]], dtype=float32)"
      ]
     },
     "execution_count": 61,
     "metadata": {},
     "output_type": "execute_result"
    }
   ],
   "source": [
    "model.predict(x_test)"
   ]
  },
  {
   "cell_type": "code",
   "execution_count": null,
   "metadata": {},
   "outputs": [],
   "source": []
  }
 ],
 "metadata": {
  "kernelspec": {
   "display_name": "Python 3",
   "language": "python",
   "name": "python3"
  },
  "language_info": {
   "codemirror_mode": {
    "name": "ipython",
    "version": 3
   },
   "file_extension": ".py",
   "mimetype": "text/x-python",
   "name": "python",
   "nbconvert_exporter": "python",
   "pygments_lexer": "ipython3",
   "version": "3.6.6"
  }
 },
 "nbformat": 4,
 "nbformat_minor": 2
}
