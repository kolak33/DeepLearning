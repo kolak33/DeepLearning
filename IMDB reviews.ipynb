{
 "cells": [
  {
   "cell_type": "code",
   "execution_count": 3,
   "metadata": {},
   "outputs": [
    {
     "data": {
      "text/plain": [
       "25000"
      ]
     },
     "execution_count": 3,
     "metadata": {},
     "output_type": "execute_result"
    }
   ],
   "source": [
    "from keras.datasets import imdb\n",
    "(train_data, train_labels), (test_data, test_labels) = imdb.load_data(\n",
    "num_words=10000)"
   ]
  },
  {
   "cell_type": "code",
   "execution_count": 10,
   "metadata": {},
   "outputs": [],
   "source": [
    "word_index = imdb.get_word_index()\n",
    "reverse_word_index = dict(\n",
    "[(value, key) for (key, value) in word_index.items()])\n",
    "decoded_review = ' '.join(\n",
    "[reverse_word_index.get(i - 3, '?') for i in train_data[10]])"
   ]
  },
  {
   "cell_type": "code",
   "execution_count": 13,
   "metadata": {},
   "outputs": [],
   "source": [
    "import numpy as np\n",
    "def vectorize_sequences(sequences, dimension=10000):\n",
    "    results = np.zeros((len(sequences), dimension))\n",
    "    for i, sequence in enumerate(sequences):\n",
    "        results[i, sequence] = 1.\n",
    "    return results\n",
    "\n",
    "x_train = vectorize_sequences(train_data)\n",
    "x_test = vectorize_sequences(test_data)"
   ]
  },
  {
   "cell_type": "code",
   "execution_count": 15,
   "metadata": {},
   "outputs": [],
   "source": [
    "y_train = np.asarray(train_labels).astype('float32')\n",
    "y_test = np.asarray(test_labels).astype('float32')"
   ]
  },
  {
   "cell_type": "code",
   "execution_count": 16,
   "metadata": {},
   "outputs": [],
   "source": [
    "from keras import models\n",
    "from keras import layers\n",
    "model = models.Sequential()\n",
    "model.add(layers.Dense(16, activation='relu', input_shape=(10000,)))\n",
    "model.add(layers.Dense(16, activation='relu'))\n",
    "model.add(layers.Dense(1, activation='sigmoid'))"
   ]
  },
  {
   "cell_type": "code",
   "execution_count": 17,
   "metadata": {},
   "outputs": [],
   "source": [
    "model.compile(optimizer='rmsprop',\n",
    "loss='binary_crossentropy',\n",
    "metrics=['accuracy'])"
   ]
  },
  {
   "cell_type": "code",
   "execution_count": 19,
   "metadata": {},
   "outputs": [],
   "source": [
    "x_val = x_train[:10000]\n",
    "partial_x_train = x_train[10000:]\n",
    "\n",
    "y_val = y_train[:10000]\n",
    "partial_y_train = y_train[10000:]"
   ]
  },
  {
   "cell_type": "code",
   "execution_count": 21,
   "metadata": {
    "scrolled": true
   },
   "outputs": [
    {
     "name": "stdout",
     "output_type": "stream",
     "text": [
      "Train on 15000 samples, validate on 10000 samples\n",
      "Epoch 1/20\n",
      "15000/15000 [==============================] - 3s 196us/step - loss: 0.0082 - acc: 0.9979 - val_loss: 0.7228 - val_acc: 0.8648\n",
      "Epoch 2/20\n",
      "15000/15000 [==============================] - 3s 185us/step - loss: 0.0026 - acc: 0.9999 - val_loss: 0.7439 - val_acc: 0.8650\n",
      "Epoch 3/20\n",
      "15000/15000 [==============================] - 3s 183us/step - loss: 0.0076 - acc: 0.9979 - val_loss: 0.7792 - val_acc: 0.8650\n",
      "Epoch 4/20\n",
      "15000/15000 [==============================] - 3s 189us/step - loss: 0.0016 - acc: 0.9999 - val_loss: 0.7953 - val_acc: 0.8640\n",
      "Epoch 5/20\n",
      "15000/15000 [==============================] - 3s 186us/step - loss: 0.0034 - acc: 0.9993 - val_loss: 0.8507 - val_acc: 0.8596\n",
      "Epoch 6/20\n",
      "15000/15000 [==============================] - 3s 182us/step - loss: 0.0012 - acc: 0.9999 - val_loss: 0.8553 - val_acc: 0.8630\n",
      "Epoch 7/20\n",
      "15000/15000 [==============================] - 3s 191us/step - loss: 8.8145e-04 - acc: 0.9999 - val_loss: 0.9502 - val_acc: 0.8561\n",
      "Epoch 8/20\n",
      "15000/15000 [==============================] - 3s 199us/step - loss: 0.0029 - acc: 0.9991 - val_loss: 0.9093 - val_acc: 0.8595\n",
      "Epoch 9/20\n",
      "15000/15000 [==============================] - 3s 229us/step - loss: 5.8021e-04 - acc: 0.9999 - val_loss: 0.9672 - val_acc: 0.8576\n",
      "Epoch 10/20\n",
      "15000/15000 [==============================] - 3s 186us/step - loss: 0.0035 - acc: 0.9989 - val_loss: 0.9967 - val_acc: 0.8582\n",
      "Epoch 11/20\n",
      "15000/15000 [==============================] - 3s 201us/step - loss: 3.9457e-04 - acc: 1.0000 - val_loss: 0.9826 - val_acc: 0.8579\n",
      "Epoch 12/20\n",
      "15000/15000 [==============================] - 3s 222us/step - loss: 2.7872e-04 - acc: 1.0000 - val_loss: 1.0012 - val_acc: 0.8577\n",
      "Epoch 13/20\n",
      "15000/15000 [==============================] - 3s 192us/step - loss: 0.0036 - acc: 0.9989 - val_loss: 1.1187 - val_acc: 0.8485\n",
      "Epoch 14/20\n",
      "15000/15000 [==============================] - 3s 191us/step - loss: 2.8524e-04 - acc: 1.0000 - val_loss: 1.0481 - val_acc: 0.8573\n",
      "Epoch 15/20\n",
      "15000/15000 [==============================] - 3s 191us/step - loss: 1.4955e-04 - acc: 1.0000 - val_loss: 1.0597 - val_acc: 0.8562\n",
      "Epoch 16/20\n",
      "15000/15000 [==============================] - 3s 195us/step - loss: 1.2093e-04 - acc: 1.0000 - val_loss: 1.0870 - val_acc: 0.8571\n",
      "Epoch 17/20\n",
      "15000/15000 [==============================] - 3s 185us/step - loss: 0.0025 - acc: 0.9991 - val_loss: 1.1176 - val_acc: 0.8569\n",
      "Epoch 18/20\n",
      "15000/15000 [==============================] - 3s 185us/step - loss: 6.8614e-05 - acc: 1.0000 - val_loss: 1.1264 - val_acc: 0.8558\n",
      "Epoch 19/20\n",
      "15000/15000 [==============================] - 3s 192us/step - loss: 6.0281e-05 - acc: 1.0000 - val_loss: 1.1392 - val_acc: 0.8549\n",
      "Epoch 20/20\n",
      "15000/15000 [==============================] - 3s 186us/step - loss: 4.9720e-05 - acc: 1.0000 - val_loss: 1.1691 - val_acc: 0.8546\n"
     ]
    }
   ],
   "source": [
    "history = model.fit(partial_x_train,\n",
    "partial_y_train,\n",
    "epochs=20,\n",
    "batch_size=512,\n",
    "validation_data=(x_val, y_val))"
   ]
  },
  {
   "cell_type": "code",
   "execution_count": 22,
   "metadata": {},
   "outputs": [
    {
     "data": {
      "text/plain": [
       "dict_keys(['val_loss', 'val_acc', 'loss', 'acc'])"
      ]
     },
     "execution_count": 22,
     "metadata": {},
     "output_type": "execute_result"
    }
   ],
   "source": [
    "history_dict = history.history\n",
    "history_dict.keys()"
   ]
  },
  {
   "cell_type": "code",
   "execution_count": 25,
   "metadata": {},
   "outputs": [
    {
     "data": {
      "image/png": "[encoded data removed]",
      "text/plain": [
       "<Figure size 432x288 with 1 Axes>"
      ]
     },
     "metadata": {
      "needs_background": "light"
     },
     "output_type": "display_data"
    }
   ],
   "source": [
    "import matplotlib.pyplot as plt\n",
    "history_dict = history.history\n",
    "loss_values = history_dict['loss']\n",
    "val_loss_values = history_dict['val_loss']\n",
    "epochs = range(1, len(history_dict['acc']) + 1)\n",
    "plt.plot(epochs, loss_values, 'bo', label='Training loss')\n",
    "plt.plot(epochs, val_loss_values, 'b', label='Validation loss')\n",
    "plt.title('Training and validation loss')\n",
    "plt.xlabel('Epochs')\n",
    "plt.ylabel('Loss')\n",
    "plt.legend()\n",
    "plt.show()"
   ]
  },
  {
   "cell_type": "code",
   "execution_count": 28,
   "metadata": {},
   "outputs": [
    {
     "data": {
      "image/png": "[encoded data removed]",
      "text/plain": [
       "<Figure size 432x288 with 1 Axes>"
      ]
     },
     "metadata": {
      "needs_background": "light"
     },
     "output_type": "display_data"
    }
   ],
   "source": [
    "plt.clf()\n",
    "acc_values = history_dict['acc']\n",
    "val_acc_values = history_dict['val_acc']\n",
    "plt.plot(epochs, acc_values, 'bo', label='Training acc')\n",
    "plt.plot(epochs, val_acc_values, 'b', label='Validation acc')\n",
    "plt.title('Training and validation accuracy')\n",
    "plt.xlabel('Epochs')\n",
    "plt.ylabel('Loss')\n",
    "plt.legend()\n",
    "plt.show()"
   ]
  },
  {
   "cell_type": "code",
   "execution_count": 36,
   "metadata": {},
   "outputs": [
    {
     "name": "stdout",
     "output_type": "stream",
     "text": [
      "Epoch 1/4\n",
      "25000/25000 [==============================] - 6s 250us/step - loss: 0.3480 - acc: 0.9429\n",
      "Epoch 2/4\n",
      "25000/25000 [==============================] - 4s 143us/step - loss: 0.1681 - acc: 0.9558\n",
      "Epoch 3/4\n",
      "25000/25000 [==============================] - 3s 125us/step - loss: 0.1343 - acc: 0.9636 0s - loss: 0.1363 -\n",
      "Epoch 4/4\n",
      "25000/25000 [==============================] - 3s 123us/step - loss: 0.1183 - acc: 0.9678\n",
      "25000/25000 [==============================] - 4s 143us/step\n",
      "[0.52685761343956, 0.84896]\n"
     ]
    }
   ],
   "source": [
    "#model.fit(x_train, y_train, epochs=4, batch_size=512)\n",
    "#results = model.evaluate(x_test, y_test)\n",
    "#print(results)"
   ]
  },
  {
   "cell_type": "code",
   "execution_count": 37,
   "metadata": {},
   "outputs": [
    {
     "data": {
      "text/plain": [
       "array([[0.01024641],\n",
       "       [0.99999976],\n",
       "       [0.21982509],\n",
       "       ...,\n",
       "       [0.07951983],\n",
       "       [0.07571418],\n",
       "       [0.34950233]], dtype=float32)"
      ]
     },
     "execution_count": 37,
     "metadata": {},
     "output_type": "execute_result"
    }
   ],
   "source": [
    "#model.predict(x_test)"
   ]
  },
  {
   "cell_type": "code",
   "execution_count": null,
   "metadata": {},
   "outputs": [],
   "source": []
  }
 ],
 "metadata": {
  "kernelspec": {
   "display_name": "Python 3",
   "language": "python",
   "name": "python3"
  },
  "language_info": {
   "codemirror_mode": {
    "name": "ipython",
    "version": 3
   },
   "file_extension": ".py",
   "mimetype": "text/x-python",
   "name": "python",
   "nbconvert_exporter": "python",
   "pygments_lexer": "ipython3",
   "version": "3.6.6"
  }
 },
 "nbformat": 4,
 "nbformat_minor": 2
}
