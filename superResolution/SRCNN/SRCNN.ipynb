{
 "cells": [
  {
   "cell_type": "code",
   "execution_count": 1,
   "metadata": {},
   "outputs": [
    {
     "name": "stderr",
     "output_type": "stream",
     "text": [
      "Using TensorFlow backend.\n"
     ]
    }
   ],
   "source": [
    "from keras import layers\n",
    "from keras import models\n",
    "from keras.models import load_model, Model\n",
    "from keras.layers import Input\n",
    "import keras.optimizers as optimizers\n",
    "from keras import backend as K\n",
    "import numpy as np\n",
    "import cv2\n",
    "import os\n",
    "from scipy.misc import imread, imresize, imsave"
   ]
  },
  {
   "cell_type": "code",
   "execution_count": 2,
   "metadata": {},
   "outputs": [],
   "source": [
    "def PSNRLoss(y_true, y_pred):\n",
    "    \"\"\"\n",
    "    PSNR is Peek Signal to Noise Ratio, which is similar to mean squared error.\n",
    "    It can be calculated as\n",
    "    PSNR = 20 * log10(MAXp) - 10 * log10(MSE)\n",
    "    When providing an unscaled input, MAXp = 255. Therefore 20 * log10(255)== 48.1308036087.\n",
    "    However, since we are scaling our input, MAXp = 1. Therefore 20 * log10(1) = 0.\n",
    "    Thus we remove that component completely and only compute the remaining MSE component.\n",
    "    \"\"\"\n",
    "    return -10. * K.log(K.mean(K.square(y_pred - y_true))) / K.log(10.)\n",
    "\n",
    "def psnr(y_true, y_pred):\n",
    "    assert y_true.shape == y_pred.shape, \"Cannot calculate PSNR. Input shapes not same.\" \\\n",
    "                                         \" y_true shape = %s, y_pred shape = %s\" % (str(y_true.shape),\n",
    "                                                                                   str(y_pred.shape))\n",
    "\n",
    "    return 20. * np.log10(255.) -10. * np.log10(np.mean(np.square(y_pred - y_true)))\n"
   ]
  },
  {
   "cell_type": "code",
   "execution_count": 28,
   "metadata": {},
   "outputs": [],
   "source": [
    "K.set_image_data_format('channels_first')\n",
    "\n",
    "def create_model(img_dim_2, img_dim_1, weight_path = 'Weights/SRWeights2X.h5'):\n",
    "    height = img_dim_2\n",
    "    width = img_dim_1\n",
    "    channels=3\n",
    "\n",
    "    shape = (channels, width, height)\n",
    "    init = Input(shape=shape)\n",
    "\n",
    "    f1 = 9\n",
    "    f2 = 1\n",
    "    f3 = 5\n",
    "\n",
    "    n1 = 64\n",
    "    n2 = 32\n",
    "\n",
    "    x = layers.Convolution2D(n1, (f1, f1), activation='relu', padding='same', name='level1')(init)\n",
    "    x = layers.Convolution2D(n2, (f2, f2), activation='relu', padding='same', name='level2')(x)\n",
    "\n",
    "    out = layers.Convolution2D(channels, (f3, f3), padding='same', name='output')(x)\n",
    "\n",
    "    model = Model(init, out)\n",
    "\n",
    "    adam = optimizers.Adam(lr=1e-3)\n",
    "    model.compile(optimizer=adam, loss='mse', metrics=[PSNRLoss])\n",
    "    model.load_weights(weight_path, reshape=True)\n",
    "    return model\n"
   ]
  },
  {
   "cell_type": "code",
   "execution_count": 55,
   "metadata": {},
   "outputs": [],
   "source": [
    "def upscale(img_path, save_intermediate=True, suffix=\"scaled\", verbose=True):\n",
    "\n",
    "        #destination path\n",
    "        path = os.path.splitext(img_path)\n",
    "        filename = path[0] + \"_\" + suffix + \"(%dx)\" % (2) + path[1]\n",
    "\n",
    "        hd_img = imread(img_path, mode='RGB') #high resolution image\n",
    "        hd_img_res = (hd_img.shape[0], hd_img.shape[1])\n",
    "        scale_factor = 2\n",
    "        lr_img_res = (hd_img.shape[0] // scale_factor, hd_img.shape[1] // scale_factor)\n",
    "        \n",
    "        lr_img = imresize(hd_img, lr_img_res) #low resolution image\n",
    "        intermediate_img = imresize(lr_img, hd_img_res) #after bilinear interpolation\n",
    "\n",
    "        if save_intermediate:\n",
    "            if verbose: print(\"Saving intermediate image.\")\n",
    "            fn = path[0] + \"_intermediate_\" + path[1]\n",
    "            imsave(fn, intermediate_img)\n",
    "        \n",
    "        print(\"\\npsnr intermediate: \", psnr(hd_img, intermediate_img))\n",
    "        intermediate_img = np.expand_dims(intermediate_img, axis=0) #for batch feed\n",
    "            \n",
    "        # transpose and process images\n",
    "        if K.image_dim_ordering() == \"th\":\n",
    "            img_conv = intermediate_img.transpose((0, 3, 1, 2)).astype(np.float32) / 255.\n",
    "        else:\n",
    "            img_conv = intermediate_img.astype(np.float32) / 255.\n",
    "\n",
    "        model = create_model(hd_img.shape[1], hd_img.shape[0])\n",
    "        if verbose: print(\"Model loaded.\")\n",
    "\n",
    "        # create prediction for image patches\n",
    "        result = model.predict(img_conv, batch_size=128, verbose=verbose)       \n",
    "        \n",
    "        if K.image_dim_ordering() == \"th\":\n",
    "            result = result.transpose((0, 2, 3, 1)).astype(np.float32) * 255.\n",
    "        else:\n",
    "            result = result.astype(np.float32) * 255.\n",
    "\n",
    "        result = result[0, :, :, :] # access the 3 dimensional image vector\n",
    "\n",
    "        result = np.clip(result, 0, 255).astype('uint8')\n",
    "        print(\"\\npsnr result after clip: \", psnr(hd_img, result))\n",
    "\n",
    "        if verbose: print(\"Saving image.\")\n",
    "        imsave(filename, result)"
   ]
  },
  {
   "cell_type": "code",
   "execution_count": 56,
   "metadata": {},
   "outputs": [
    {
     "name": "stderr",
     "output_type": "stream",
     "text": [
      "c:\\programy\\anaconda3\\envs\\tensorenv\\lib\\site-packages\\ipykernel_launcher.py:8: DeprecationWarning: `imread` is deprecated!\n",
      "`imread` is deprecated in SciPy 1.0.0, and will be removed in 1.2.0.\n",
      "Use ``imageio.imread`` instead.\n",
      "  \n",
      "c:\\programy\\anaconda3\\envs\\tensorenv\\lib\\site-packages\\ipykernel_launcher.py:13: DeprecationWarning: `imresize` is deprecated!\n",
      "`imresize` is deprecated in SciPy 1.0.0, and will be removed in 1.2.0.\n",
      "Use ``skimage.transform.resize`` instead.\n",
      "  del sys.path[0]\n",
      "c:\\programy\\anaconda3\\envs\\tensorenv\\lib\\site-packages\\ipykernel_launcher.py:14: DeprecationWarning: `imresize` is deprecated!\n",
      "`imresize` is deprecated in SciPy 1.0.0, and will be removed in 1.2.0.\n",
      "Use ``skimage.transform.resize`` instead.\n",
      "  \n",
      "c:\\programy\\anaconda3\\envs\\tensorenv\\lib\\site-packages\\ipykernel_launcher.py:19: DeprecationWarning: `imsave` is deprecated!\n",
      "`imsave` is deprecated in SciPy 1.0.0, and will be removed in 1.2.0.\n",
      "Use ``imageio.imwrite`` instead.\n"
     ]
    },
    {
     "name": "stdout",
     "output_type": "stream",
     "text": [
      "Saving intermediate image.\n",
      "\n",
      "psnr intermediate:  35.19102067757655\n",
      "Model loaded.\n",
      "1/1 [==============================] - 3s 3s/step\n",
      "\n",
      "psnr result after clip:  35.62402837416574\n",
      "Saving image.\n"
     ]
    },
    {
     "name": "stderr",
     "output_type": "stream",
     "text": [
      "c:\\programy\\anaconda3\\envs\\tensorenv\\lib\\site-packages\\ipykernel_launcher.py:47: DeprecationWarning: `imsave` is deprecated!\n",
      "`imsave` is deprecated in SciPy 1.0.0, and will be removed in 1.2.0.\n",
      "Use ``imageio.imwrite`` instead.\n"
     ]
    }
   ],
   "source": [
    "img_path = 'Images/monarch.bmp'\n",
    "\n",
    "upscale(img_path)"
   ]
  },
  {
   "cell_type": "code",
   "execution_count": null,
   "metadata": {},
   "outputs": [],
   "source": []
  },
  {
   "cell_type": "code",
   "execution_count": null,
   "metadata": {},
   "outputs": [],
   "source": []
  },
  {
   "cell_type": "code",
   "execution_count": null,
   "metadata": {},
   "outputs": [],
   "source": []
  },
  {
   "cell_type": "code",
   "execution_count": null,
   "metadata": {},
   "outputs": [],
   "source": []
  }
 ],
 "metadata": {
  "kernelspec": {
   "display_name": "Python 3",
   "language": "python",
   "name": "python3"
  },
  "language_info": {
   "codemirror_mode": {
    "name": "ipython",
    "version": 3
   },
   "file_extension": ".py",
   "mimetype": "text/x-python",
   "name": "python",
   "nbconvert_exporter": "python",
   "pygments_lexer": "ipython3",
   "version": "3.6.6"
  }
 },
 "nbformat": 4,
 "nbformat_minor": 2
}
